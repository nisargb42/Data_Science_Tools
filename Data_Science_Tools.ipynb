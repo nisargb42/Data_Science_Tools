{
 "cells": [
  {
   "cell_type": "markdown",
   "id": "63816a02",
   "metadata": {},
   "source": [
    "## My Jupyter Notbook on IBM Watson studio"
   ]
  },
  {
   "cell_type": "markdown",
   "id": "e28fd4b9",
   "metadata": {},
   "source": [
    "## Nisarg Bhuva"
   ]
  },
  {
   "cell_type": "markdown",
   "id": "879eae57",
   "metadata": {},
   "source": [
    "## I am interested in data science because it is full of curiosity!"
   ]
  },
  {
   "cell_type": "code",
   "execution_count": 2,
   "id": "07f1151a",
   "metadata": {},
   "outputs": [],
   "source": [
    "def plus(a,b):\n",
    "    return a+b"
   ]
  },
  {
   "cell_type": "code",
   "execution_count": 3,
   "id": "cf3c47e1",
   "metadata": {},
   "outputs": [
    {
     "data": {
      "text/plain": [
       "True"
      ]
     },
     "execution_count": 3,
     "metadata": {},
     "output_type": "execute_result"
    }
   ],
   "source": [
    "def gauss(n) :\n",
    "    return (n*(n+1))/2\n",
    "gauss(100) == sum(range(101))"
   ]
  },
  {
   "cell_type": "code",
   "execution_count": null,
   "id": "83e0b498",
   "metadata": {},
   "outputs": [],
   "source": []
  }
 ],
 "metadata": {
  "kernelspec": {
   "display_name": "Python 3 (ipykernel)",
   "language": "python",
   "name": "python3"
  },
  "language_info": {
   "codemirror_mode": {
    "name": "ipython",
    "version": 3
   },
   "file_extension": ".py",
   "mimetype": "text/x-python",
   "name": "python",
   "nbconvert_exporter": "python",
   "pygments_lexer": "ipython3",
   "version": "3.9.13"
  }
 },
 "nbformat": 4,
 "nbformat_minor": 5
}
